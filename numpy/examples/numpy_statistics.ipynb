{
 "cells": [
  {
   "cell_type": "code",
   "execution_count": 1,
   "id": "0ffc85c2-48d8-47b5-bce8-45eb32121683",
   "metadata": {},
   "outputs": [],
   "source": [
    "import numpy as np"
   ]
  },
  {
   "cell_type": "code",
   "execution_count": 2,
   "id": "0dd6b8ad-7d27-4b5c-b7de-9e51f62b8e37",
   "metadata": {},
   "outputs": [
    {
     "data": {
      "text/plain": [
       "array([15, 20, 35, 40, 50, 65, 75, 80, 95])"
      ]
     },
     "execution_count": 2,
     "metadata": {},
     "output_type": "execute_result"
    }
   ],
   "source": [
    "data = np.array([15, 20, 35, 40, 50, 65, 75, 80, 95])\n",
    "data"
   ]
  },
  {
   "cell_type": "code",
   "execution_count": 3,
   "id": "60cb13e6-d6c7-4e84-b6cf-ef4911e05864",
   "metadata": {},
   "outputs": [
    {
     "data": {
      "text/plain": [
       "np.float64(52.77777777777778)"
      ]
     },
     "execution_count": 3,
     "metadata": {},
     "output_type": "execute_result"
    }
   ],
   "source": [
    "# mean()\n",
    "np.mean(data)"
   ]
  },
  {
   "cell_type": "code",
   "execution_count": 5,
   "id": "a632a7ae-1604-4298-a9bf-6d60b75580ee",
   "metadata": {},
   "outputs": [
    {
     "data": {
      "text/plain": [
       "np.float64(50.0)"
      ]
     },
     "execution_count": 5,
     "metadata": {},
     "output_type": "execute_result"
    }
   ],
   "source": [
    "# median()\n",
    "np.median(data)"
   ]
  },
  {
   "cell_type": "code",
   "execution_count": 6,
   "id": "ad266762-b38e-49a0-8013-597606d85d07",
   "metadata": {},
   "outputs": [
    {
     "data": {
      "text/plain": [
       "np.int64(475)"
      ]
     },
     "execution_count": 6,
     "metadata": {},
     "output_type": "execute_result"
    }
   ],
   "source": [
    "# sum()\n",
    "np.sum(data)"
   ]
  },
  {
   "cell_type": "code",
   "execution_count": 9,
   "id": "5dc2983d-40f1-4b43-8da2-514646b0cdca",
   "metadata": {},
   "outputs": [
    {
     "data": {
      "text/plain": [
       "np.int64(15)"
      ]
     },
     "execution_count": 9,
     "metadata": {},
     "output_type": "execute_result"
    }
   ],
   "source": [
    "# min()\n",
    "np.min(data)"
   ]
  },
  {
   "cell_type": "code",
   "execution_count": 11,
   "id": "b1113b23-ee47-474e-a96a-c3640e6bcc0f",
   "metadata": {},
   "outputs": [
    {
     "data": {
      "text/plain": [
       "np.int64(95)"
      ]
     },
     "execution_count": 11,
     "metadata": {},
     "output_type": "execute_result"
    }
   ],
   "source": [
    "# max()\n",
    "np.max(data)"
   ]
  },
  {
   "cell_type": "code",
   "execution_count": 14,
   "id": "7dc170d5-d5b5-437e-b020-00f775622e09",
   "metadata": {},
   "outputs": [
    {
     "data": {
      "text/plain": [
       "np.float64(26.15244954653293)"
      ]
     },
     "execution_count": 14,
     "metadata": {},
     "output_type": "execute_result"
    }
   ],
   "source": [
    "# std() - standard deviation\n",
    "np.std(data)"
   ]
  },
  {
   "cell_type": "code",
   "execution_count": 15,
   "id": "fbc2f0ce-d962-42c7-821d-b6d23d21d7f8",
   "metadata": {},
   "outputs": [
    {
     "data": {
      "text/plain": [
       "np.float64(683.9506172839506)"
      ]
     },
     "execution_count": 15,
     "metadata": {},
     "output_type": "execute_result"
    }
   ],
   "source": [
    "# var() - variance\n",
    "np.var(data)"
   ]
  },
  {
   "cell_type": "markdown",
   "id": "5bedd546-18b2-431a-9ebb-a125208c8c6b",
   "metadata": {},
   "source": [
    "## Anvanced statistics"
   ]
  },
  {
   "cell_type": "code",
   "execution_count": 18,
   "id": "10987b61-5cc4-4d7d-ae46-9faa5562d794",
   "metadata": {},
   "outputs": [
    {
     "data": {
      "text/plain": [
       "np.float64(19.0)"
      ]
     },
     "execution_count": 18,
     "metadata": {},
     "output_type": "execute_result"
    }
   ],
   "source": [
    "# percentile() - percentile - 10 percentile\n",
    "np.percentile(data, 10)"
   ]
  },
  {
   "cell_type": "code",
   "execution_count": 17,
   "id": "5f5cfc85-87f5-4680-ac29-99d88d264839",
   "metadata": {},
   "outputs": [
    {
     "data": {
      "text/plain": [
       "np.float64(75.0)"
      ]
     },
     "execution_count": 17,
     "metadata": {},
     "output_type": "execute_result"
    }
   ],
   "source": [
    "# percentile() - percentile - 75 percentile\n",
    "np.percentile(data, 75)"
   ]
  },
  {
   "cell_type": "markdown",
   "id": "5d19ec8f-6a00-411f-83f2-7b73a2140571",
   "metadata": {},
   "source": [
    "### correlation coefficient"
   ]
  },
  {
   "cell_type": "code",
   "execution_count": 21,
   "id": "75f17a08-c6ad-4cb5-b81c-0baa9d878b1b",
   "metadata": {},
   "outputs": [],
   "source": [
    "data_x = np.array([1,2,3,4,5])\n",
    "data_y = np.array([2,4,6,8,10])"
   ]
  },
  {
   "cell_type": "code",
   "execution_count": 23,
   "id": "e2db2142-0c7a-4016-b6ef-6080f098e333",
   "metadata": {},
   "outputs": [
    {
     "data": {
      "text/plain": [
       "array([[1., 1.],\n",
       "       [1., 1.]])"
      ]
     },
     "execution_count": 23,
     "metadata": {},
     "output_type": "execute_result"
    }
   ],
   "source": [
    "# corrcoef() - correlation coefficient between data_x and data_y\n",
    "np.corrcoef(data_x, data_y)"
   ]
  },
  {
   "cell_type": "code",
   "execution_count": 24,
   "id": "5d9d50f0-f9bc-48e8-9811-4352948a12f8",
   "metadata": {},
   "outputs": [
    {
     "data": {
      "text/plain": [
       "array([[ 2.5,  5. ],\n",
       "       [ 5. , 10. ]])"
      ]
     },
     "execution_count": 24,
     "metadata": {},
     "output_type": "execute_result"
    }
   ],
   "source": [
    "# cov() - covariance matrix  between data_x and data_y\n",
    "np.cov(data_x, data_y)"
   ]
  },
  {
   "cell_type": "markdown",
   "id": "012a6b4b-d69e-42f7-9d35-e4410f0aa885",
   "metadata": {},
   "source": [
    "### axis=0 - columns, axis=1 - rows"
   ]
  },
  {
   "cell_type": "code",
   "execution_count": 25,
   "id": "3d684459-1a9c-4e4b-93ac-dd52e9ef6a59",
   "metadata": {},
   "outputs": [
    {
     "data": {
      "text/plain": [
       "array([[10, 15, 20],\n",
       "       [25, 30, 35],\n",
       "       [40, 45, 50]])"
      ]
     },
     "execution_count": 25,
     "metadata": {},
     "output_type": "execute_result"
    }
   ],
   "source": [
    "# axis=0 - columns, axis=1 - rows\n",
    "array_2d = np.array([\n",
    "    [10, 15, 20],\n",
    "    [25, 30, 35],    \n",
    "    [40, 45, 50]\n",
    "])\n",
    "array_2d"
   ]
  },
  {
   "cell_type": "code",
   "execution_count": 27,
   "id": "4341ac24-504a-43e7-bb61-a604a04c1e36",
   "metadata": {},
   "outputs": [
    {
     "data": {
      "text/plain": [
       "array([25., 30., 35.])"
      ]
     },
     "execution_count": 27,
     "metadata": {},
     "output_type": "execute_result"
    }
   ],
   "source": [
    "np.mean(array_2d, axis=0) # along columns"
   ]
  },
  {
   "cell_type": "code",
   "execution_count": 28,
   "id": "082e68ba-71be-4fb0-83da-de16dae2220d",
   "metadata": {},
   "outputs": [
    {
     "data": {
      "text/plain": [
       "array([15., 30., 45.])"
      ]
     },
     "execution_count": 28,
     "metadata": {},
     "output_type": "execute_result"
    }
   ],
   "source": [
    "np.mean(array_2d, axis=1) # along rows"
   ]
  },
  {
   "cell_type": "code",
   "execution_count": 30,
   "id": "8c57c837-1f20-4003-859d-5a942f353deb",
   "metadata": {},
   "outputs": [],
   "source": [
    "# 3D array data\n",
    "array_3d = np.array([\n",
    "    [\n",
    "        [10, 15, 20],\n",
    "        [25, 30, 35]\n",
    "    ],\n",
    "    [\n",
    "        [40, 45, 50],\n",
    "        [55, 60, 65]\n",
    "    ]               \n",
    "])"
   ]
  },
  {
   "cell_type": "code",
   "execution_count": 31,
   "id": "ccaedb6d-7e0d-449c-9127-b989e8eae5e8",
   "metadata": {},
   "outputs": [
    {
     "data": {
      "text/plain": [
       "array([[25., 30., 35.],\n",
       "       [40., 45., 50.]])"
      ]
     },
     "execution_count": 31,
     "metadata": {},
     "output_type": "execute_result"
    }
   ],
   "source": [
    "np.mean(array_3d, axis=0) # along columns"
   ]
  },
  {
   "cell_type": "code",
   "execution_count": 32,
   "id": "718410db-a601-4ba2-9e59-3e4532506f71",
   "metadata": {},
   "outputs": [
    {
     "data": {
      "text/plain": [
       "array([[17.5, 22.5, 27.5],\n",
       "       [47.5, 52.5, 57.5]])"
      ]
     },
     "execution_count": 32,
     "metadata": {},
     "output_type": "execute_result"
    }
   ],
   "source": [
    "np.mean(array_3d, axis=1) # along rows"
   ]
  },
  {
   "cell_type": "code",
   "execution_count": null,
   "id": "afbaf020-1c9f-4fce-bd7a-4c393a0631dd",
   "metadata": {},
   "outputs": [],
   "source": []
  }
 ],
 "metadata": {
  "kernelspec": {
   "display_name": "Python 3 (ipykernel)",
   "language": "python",
   "name": "python3"
  },
  "language_info": {
   "codemirror_mode": {
    "name": "ipython",
    "version": 3
   },
   "file_extension": ".py",
   "mimetype": "text/x-python",
   "name": "python",
   "nbconvert_exporter": "python",
   "pygments_lexer": "ipython3",
   "version": "3.13.9"
  }
 },
 "nbformat": 4,
 "nbformat_minor": 5
}
