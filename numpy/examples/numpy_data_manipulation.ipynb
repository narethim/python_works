{
 "cells": [
  {
   "cell_type": "code",
   "execution_count": null,
   "id": "29faea94-0c67-4c2e-ba23-1ab6e28bf71d",
   "metadata": {},
   "outputs": [],
   "source": [
    "import numpy as np"
   ]
  },
  {
   "cell_type": "code",
   "execution_count": null,
   "id": "1d49f1ab-36b1-4594-81f3-01509563983b",
   "metadata": {},
   "outputs": [
    {
     "data": {
      "text/plain": [
       "array([[1, 2, 3],\n",
       "       [4, 5, 6]])"
      ]
     },
     "execution_count": 4,
     "metadata": {},
     "output_type": "execute_result"
    }
   ],
   "source": [
    "array_2d = np.array([[1, 2, 3], [4, 5, 6]])\n",
    "array_2d"
   ]
  },
  {
   "cell_type": "code",
   "execution_count": null,
   "id": "e51a7ea0-7cf4-4b36-929b-d03543747d5b",
   "metadata": {},
   "outputs": [
    {
     "data": {
      "text/plain": [
       "(2, 3)"
      ]
     },
     "execution_count": 5,
     "metadata": {},
     "output_type": "execute_result"
    }
   ],
   "source": [
    "# Shape\n",
    "array_2d.shape"
   ]
  },
  {
   "cell_type": "code",
   "execution_count": null,
   "id": "084ca99e-5a9d-49d3-8179-b516bf8bc15c",
   "metadata": {},
   "outputs": [
    {
     "data": {
      "text/plain": [
       "(2, 3)"
      ]
     },
     "execution_count": 5,
     "metadata": {},
     "output_type": "execute_result"
    }
   ],
   "source": [
    "# Reshape\n",
    "array_2d.shape"
   ]
  },
  {
   "cell_type": "code",
   "execution_count": null,
   "id": "196fc0b6-c339-40b9-945e-8bfdbe036618",
   "metadata": {},
   "outputs": [
    {
     "data": {
      "text/plain": [
       "array([0, 1, 2, 3, 4, 5])"
      ]
     },
     "execution_count": 7,
     "metadata": {},
     "output_type": "execute_result"
    }
   ],
   "source": [
    "array_1d = np.arange(6)\n",
    "array_1d"
   ]
  },
  {
   "cell_type": "code",
   "execution_count": null,
   "id": "c8bf4f49-af3f-4c38-8d7d-85578500ed76",
   "metadata": {},
   "outputs": [
    {
     "data": {
      "text/plain": [
       "array([[0, 1, 2],\n",
       "       [3, 4, 5]])"
      ]
     },
     "execution_count": 12,
     "metadata": {},
     "output_type": "execute_result"
    }
   ],
   "source": [
    "array_reshaped = array_1d.reshape(2, 3)\n",
    "array_reshaped"
   ]
  },
  {
   "cell_type": "code",
   "execution_count": null,
   "id": "38264617-4ccd-4174-a453-9a2c5da4b8bc",
   "metadata": {},
   "outputs": [
    {
     "data": {
      "text/plain": [
       "array([0, 1, 2, 3, 4, 5])"
      ]
     },
     "execution_count": 14,
     "metadata": {},
     "output_type": "execute_result"
    }
   ],
   "source": [
    "# Convert back to 1d array - flatten - create a copy\n",
    "array_reshaped.flatten()"
   ]
  },
  {
   "cell_type": "code",
   "execution_count": null,
   "id": "c24c066a-3894-43c7-b181-c87be754dedd",
   "metadata": {},
   "outputs": [
    {
     "data": {
      "text/plain": [
       "array([0, 1, 2, 3, 4, 5])"
      ]
     },
     "execution_count": 15,
     "metadata": {},
     "output_type": "execute_result"
    }
   ],
   "source": [
    "# Convert back to 1d array - ravel - create a view\n",
    "array_reshaped.ravel()"
   ]
  },
  {
   "cell_type": "code",
   "execution_count": null,
   "id": "61fd76fd-6fb1-4f75-934e-4c843635d750",
   "metadata": {},
   "outputs": [
    {
     "data": {
      "text/plain": [
       "array([[0, 3],\n",
       "       [1, 4],\n",
       "       [2, 5]])"
      ]
     },
     "execution_count": 16,
     "metadata": {},
     "output_type": "execute_result"
    }
   ],
   "source": [
    "# Transpose - transpose() 2x3 to 3x2\n",
    "array_reshaped.transpose()"
   ]
  },
  {
   "cell_type": "markdown",
   "id": "4c4bf50d-8bb6-41e2-9254-5adca41103ed",
   "metadata": {},
   "source": [
    "## Merge multiple arrays"
   ]
  },
  {
   "cell_type": "code",
   "execution_count": null,
   "id": "467e8eff-78f1-44b0-9698-229286713b0d",
   "metadata": {},
   "outputs": [],
   "source": [
    "array_a = np.array([[1, 2], [3, 4]])\n",
    "array_b = np.array([[5, 6]])"
   ]
  },
  {
   "cell_type": "code",
   "execution_count": null,
   "id": "d59d7368-85c6-4d43-a2c5-d539f6fd07f4",
   "metadata": {},
   "outputs": [
    {
     "data": {
      "text/plain": [
       "array([[1, 2],\n",
       "       [3, 4]])"
      ]
     },
     "execution_count": 18,
     "metadata": {},
     "output_type": "execute_result"
    }
   ],
   "source": [
    "array_a"
   ]
  },
  {
   "cell_type": "code",
   "execution_count": null,
   "id": "997efaab-72a2-417d-9e87-f771d8239c49",
   "metadata": {},
   "outputs": [
    {
     "data": {
      "text/plain": [
       "array([[5, 6]])"
      ]
     },
     "execution_count": 19,
     "metadata": {},
     "output_type": "execute_result"
    }
   ],
   "source": [
    "array_b"
   ]
  },
  {
   "cell_type": "code",
   "execution_count": null,
   "id": "9613971b-fcc2-4fe1-8f93-b93bbda6ea51",
   "metadata": {},
   "outputs": [
    {
     "data": {
      "text/plain": [
       "array([[1, 2],\n",
       "       [3, 4],\n",
       "       [5, 6]])"
      ]
     },
     "execution_count": 20,
     "metadata": {},
     "output_type": "execute_result"
    }
   ],
   "source": [
    "# Concatenate array_a and array_b\n",
    "np.concatenate( (array_a, array_b), axis=0)"
   ]
  },
  {
   "cell_type": "code",
   "execution_count": null,
   "id": "6b84a14a-2cf3-47a6-a609-d19a5f4a8b5f",
   "metadata": {},
   "outputs": [
    {
     "data": {
      "text/plain": [
       "array([[1, 2],\n",
       "       [3, 4],\n",
       "       [5, 6]])"
      ]
     },
     "execution_count": 22,
     "metadata": {},
     "output_type": "execute_result"
    }
   ],
   "source": [
    "# Vertical stack - vstack()\n",
    "np.vstack( (array_a, array_b))"
   ]
  },
  {
   "cell_type": "code",
   "execution_count": null,
   "id": "c0d0bcc8-661f-4f8a-b7c7-41b379c3cfd1",
   "metadata": {},
   "outputs": [
    {
     "data": {
      "text/plain": [
       "array([[1, 2, 7],\n",
       "       [3, 4, 8]])"
      ]
     },
     "execution_count": 25,
     "metadata": {},
     "output_type": "execute_result"
    }
   ],
   "source": [
    "# Horizontal stack - hstack() must have same dimension\n",
    "array_c = np.array([[7], [8]])\n",
    "    \n",
    "np.hstack( (array_a, array_c))"
   ]
  },
  {
   "cell_type": "code",
   "execution_count": null,
   "id": "44a3b556-f4f4-4117-b6b8-3596aa136e2f",
   "metadata": {},
   "outputs": [
    {
     "data": {
      "text/plain": [
       "array([[[1, 1],\n",
       "        [2, 2]],\n",
       "\n",
       "       [[3, 3],\n",
       "        [4, 4]]])"
      ]
     },
     "execution_count": 26,
     "metadata": {},
     "output_type": "execute_result"
    }
   ],
   "source": [
    "# 3d stack - dstack() must have same dimension\n",
    "    \n",
    "np.dstack( (array_a, array_a))"
   ]
  },
  {
   "cell_type": "code",
   "execution_count": null,
   "id": "dd9a2457-657d-42cb-b2ec-5171edfff70a",
   "metadata": {},
   "outputs": [
    {
     "data": {
      "text/plain": [
       "array([[[1, 2],\n",
       "        [3, 4]],\n",
       "\n",
       "       [[1, 2],\n",
       "        [3, 4]]])"
      ]
     },
     "execution_count": 27,
     "metadata": {},
     "output_type": "execute_result"
    }
   ],
   "source": [
    "# stack along new axis -  \n",
    "np.stack( (array_a, array_a), axis=0)"
   ]
  },
  {
   "cell_type": "markdown",
   "id": "f2269dbc-e3c3-4f29-8d37-4bf57a9aae70",
   "metadata": {},
   "source": [
    "## Splitting array into multiple arrays"
   ]
  },
  {
   "cell_type": "code",
   "execution_count": null,
   "id": "f091877c-3a1f-4817-bef1-048aea76f57f",
   "metadata": {},
   "outputs": [],
   "source": []
  },
  {
   "cell_type": "code",
   "execution_count": null,
   "id": "60de668a-ed96-4fc1-b801-0c08c39c7f15",
   "metadata": {},
   "outputs": [
    {
     "data": {
      "text/plain": [
       "[array([0, 1]), array([2, 3]), array([4, 5])]"
      ]
     },
     "execution_count": 28,
     "metadata": {},
     "output_type": "execute_result"
    }
   ],
   "source": [
    "# Split array_1d into 3 arrays\n",
    "np.split(array_1d, 3)"
   ]
  },
  {
   "cell_type": "code",
   "execution_count": null,
   "id": "e65e35ad-7005-44f8-9643-f7e956916e65",
   "metadata": {},
   "outputs": [
    {
     "data": {
      "text/plain": [
       "array([[1, 2, 3],\n",
       "       [4, 5, 6]])"
      ]
     },
     "execution_count": 29,
     "metadata": {},
     "output_type": "execute_result"
    }
   ],
   "source": [
    "array_2d"
   ]
  },
  {
   "cell_type": "code",
   "execution_count": null,
   "id": "8eb292c7-20f7-4ad3-9d19-9b74d810e53a",
   "metadata": {},
   "outputs": [
    {
     "data": {
      "text/plain": [
       "[array([[1],\n",
       "        [4]]),\n",
       " array([[2],\n",
       "        [5]]),\n",
       " array([[3],\n",
       "        [6]])]"
      ]
     },
     "execution_count": 30,
     "metadata": {},
     "output_type": "execute_result"
    }
   ],
   "source": [
    "# Split array horizontally (column) - hsplit()\n",
    "np.hsplit(array_2d, 3)"
   ]
  },
  {
   "cell_type": "code",
   "execution_count": null,
   "id": "a74d47a1-2ca5-4230-8936-908e439c912b",
   "metadata": {},
   "outputs": [
    {
     "data": {
      "text/plain": [
       "[array([[1, 2, 3]]), array([[4, 5, 6]])]"
      ]
     },
     "execution_count": 32,
     "metadata": {},
     "output_type": "execute_result"
    }
   ],
   "source": [
    "# Split array vertically (row) - hsplit()\n",
    "np.vsplit(array_2d, 2)"
   ]
  },
  {
   "cell_type": "code",
   "execution_count": null,
   "id": "4bcc30ed-1286-4df2-956a-de80bfdbfcda",
   "metadata": {},
   "outputs": [
    {
     "data": {
      "text/plain": [
       "(2, 2, 2)"
      ]
     },
     "execution_count": 33,
     "metadata": {},
     "output_type": "execute_result"
    }
   ],
   "source": [
    "#\n",
    "array_3d = np.stack((array_a, array_a), axis=0)\n",
    "array_3d.shape"
   ]
  },
  {
   "cell_type": "code",
   "execution_count": null,
   "id": "a31a3184-6a9a-4bea-8a81-216cb03da165",
   "metadata": {},
   "outputs": [
    {
     "data": {
      "text/plain": [
       "array([[[1, 2],\n",
       "        [3, 4]],\n",
       "\n",
       "       [[1, 2],\n",
       "        [3, 4]]])"
      ]
     },
     "execution_count": 34,
     "metadata": {},
     "output_type": "execute_result"
    }
   ],
   "source": [
    "array_3d"
   ]
  },
  {
   "cell_type": "code",
   "execution_count": null,
   "id": "4e5b2972-e43a-43d5-abcc-385bf59e2a15",
   "metadata": {},
   "outputs": [
    {
     "data": {
      "text/plain": [
       "[array([[[1],\n",
       "         [3]],\n",
       " \n",
       "        [[1],\n",
       "         [3]]]),\n",
       " array([[[2],\n",
       "         [4]],\n",
       " \n",
       "        [[2],\n",
       "         [4]]])]"
      ]
     },
     "execution_count": 35,
     "metadata": {},
     "output_type": "execute_result"
    }
   ],
   "source": [
    "# Split 3D array - dsplit() along depth axis\n",
    "np.dsplit(array_3d, 2)"
   ]
  },
  {
   "cell_type": "markdown",
   "id": "e47dbe7d-ff85-46ae-a1f5-73379be79975",
   "metadata": {},
   "source": [
    "## Insert element into array - delete element from array"
   ]
  },
  {
   "cell_type": "code",
   "execution_count": null,
   "id": "76c84f91-f1ad-456c-ab47-7ba63d6bea0c",
   "metadata": {},
   "outputs": [
    {
     "data": {
      "text/plain": [
       "array([0, 1, 2, 3, 4, 5])"
      ]
     },
     "execution_count": 36,
     "metadata": {},
     "output_type": "execute_result"
    }
   ],
   "source": [
    "array_1d"
   ]
  },
  {
   "cell_type": "code",
   "execution_count": null,
   "id": "38b24938-8ec3-426d-bb2f-547b34838841",
   "metadata": {},
   "outputs": [
    {
     "data": {
      "text/plain": [
       "array([ 0,  1, 99,  2,  3,  4,  5])"
      ]
     },
     "execution_count": 37,
     "metadata": {},
     "output_type": "execute_result"
    }
   ],
   "source": [
    "# insert 99 at index 2\n",
    "np.insert(array_1d, 2, 99)"
   ]
  },
  {
   "cell_type": "code",
   "execution_count": null,
   "id": "d68148bf-37e2-4647-9a2a-47896010bf96",
   "metadata": {},
   "outputs": [
    {
     "data": {
      "text/plain": [
       "array([ 0,  1,  2,  3,  4,  5, 99])"
      ]
     },
     "execution_count": 38,
     "metadata": {},
     "output_type": "execute_result"
    }
   ],
   "source": [
    "# Append 99 at the end of array\n",
    "np.append(array_1d, 99)"
   ]
  },
  {
   "cell_type": "code",
   "execution_count": null,
   "id": "59e45204-2353-4704-b37e-df912a014f36",
   "metadata": {},
   "outputs": [
    {
     "data": {
      "text/plain": [
       "array([1, 2, 3, 4, 5])"
      ]
     },
     "execution_count": 39,
     "metadata": {},
     "output_type": "execute_result"
    }
   ],
   "source": [
    "# delete an element at index 0\n",
    "np.delete(array_1d, 0)"
   ]
  },
  {
   "cell_type": "code",
   "execution_count": null,
   "id": "77e04452-52b7-4f87-9e7d-a0747d4a3e01",
   "metadata": {},
   "outputs": [
    {
     "data": {
      "text/plain": [
       "array([0, 1, 2, 3, 4, 5])"
      ]
     },
     "execution_count": 40,
     "metadata": {},
     "output_type": "execute_result"
    }
   ],
   "source": [
    "# Assign an array to a new variable does not create a copy. Both variables point to the same data\n",
    "new_array = array_1d\n",
    "new_array"
   ]
  },
  {
   "cell_type": "code",
   "execution_count": null,
   "id": "11ed9b42-6d47-4302-aaae-0e17b70a9363",
   "metadata": {},
   "outputs": [
    {
     "data": {
      "text/plain": [
       "array([99,  1,  2,  3,  4,  5])"
      ]
     },
     "execution_count": 41,
     "metadata": {},
     "output_type": "execute_result"
    }
   ],
   "source": [
    "new_array[0] = 99\n",
    "new_array"
   ]
  },
  {
   "cell_type": "code",
   "execution_count": null,
   "id": "b348043f-9d03-4863-9071-d61b36fab2eb",
   "metadata": {},
   "outputs": [
    {
     "data": {
      "text/plain": [
       "array([99,  1,  2,  3,  4,  5])"
      ]
     },
     "execution_count": 42,
     "metadata": {},
     "output_type": "execute_result"
    }
   ],
   "source": [
    "array_1d"
   ]
  },
  {
   "cell_type": "markdown",
   "id": "d44fd040-534e-4ddd-b978-8e746d1f971c",
   "metadata": {},
   "source": [
    "## A view creates a new array object that looks at the same data as well."
   ]
  },
  {
   "cell_type": "code",
   "execution_count": null,
   "id": "b0047aaa-c316-4c55-abd0-2574d880c8fa",
   "metadata": {},
   "outputs": [
    {
     "data": {
      "text/plain": [
       "array([99,  1,  2,  3,  4,  5])"
      ]
     },
     "execution_count": 44,
     "metadata": {},
     "output_type": "execute_result"
    }
   ],
   "source": [
    "new_array = array_1d.view()\n",
    "new_array"
   ]
  },
  {
   "cell_type": "code",
   "execution_count": null,
   "id": "ab8aa64f-1430-4682-b07c-8daf9de6e848",
   "metadata": {},
   "outputs": [
    {
     "data": {
      "text/plain": [
       "array([89,  1,  2,  3,  4,  5])"
      ]
     },
     "execution_count": 45,
     "metadata": {},
     "output_type": "execute_result"
    }
   ],
   "source": [
    "new_array[0] = 89\n",
    "new_array"
   ]
  },
  {
   "cell_type": "code",
   "execution_count": null,
   "id": "2ab5d0f7-7157-4d37-af83-2889191ee099",
   "metadata": {},
   "outputs": [
    {
     "data": {
      "text/plain": [
       "array([89,  1,  2,  3,  4,  5])"
      ]
     },
     "execution_count": 46,
     "metadata": {},
     "output_type": "execute_result"
    }
   ],
   "source": [
    "array_1d"
   ]
  },
  {
   "cell_type": "markdown",
   "id": "e43ac83d-7de2-4b8d-b0a4-2c30a23f1544",
   "metadata": {},
   "source": [
    "## copy() creates a new array and copies the data."
   ]
  },
  {
   "cell_type": "code",
   "execution_count": null,
   "id": "f05484af-2779-4f47-a9c5-5ea3eaca83c8",
   "metadata": {},
   "outputs": [
    {
     "data": {
      "text/plain": [
       "array([89,  1,  2,  3,  4,  5])"
      ]
     },
     "execution_count": 47,
     "metadata": {},
     "output_type": "execute_result"
    }
   ],
   "source": [
    "new_array = array_1d.copy()\n",
    "new_array"
   ]
  },
  {
   "cell_type": "code",
   "execution_count": null,
   "id": "70ab09e8-b45c-4081-9639-26cb0a021124",
   "metadata": {},
   "outputs": [
    {
     "data": {
      "text/plain": [
       "array([29,  1,  2,  3,  4,  5])"
      ]
     },
     "execution_count": 48,
     "metadata": {},
     "output_type": "execute_result"
    }
   ],
   "source": [
    "new_array[0] = 29\n",
    "new_array"
   ]
  },
  {
   "cell_type": "code",
   "execution_count": null,
   "id": "b84c3c70-a500-4cb9-a854-8206df08dc94",
   "metadata": {},
   "outputs": [
    {
     "data": {
      "text/plain": [
       "array([89,  1,  2,  3,  4,  5])"
      ]
     },
     "execution_count": 49,
     "metadata": {},
     "output_type": "execute_result"
    }
   ],
   "source": [
    "array_1d"
   ]
  },
  {
   "cell_type": "code",
   "execution_count": null,
   "id": "58d1dc65-6d1c-4558-8d94-8236c3b24043",
   "metadata": {},
   "outputs": [
    {
     "name": "stdout",
     "output_type": "stream",
     "text": [
      "array_i: \n",
      "[1 2 3]\n",
      "array_j: \n",
      "[[4]\n",
      " [5]\n",
      " [6]]\n"
     ]
    }
   ],
   "source": [
    "#\n",
    "array_i = np.array([1,2,3])\n",
    "array_j = np.array([[4], [5], [6]])\n",
    "print('array_i: ')\n",
    "print(array_i)\n",
    "print('array_j: ')\n",
    "print(array_j)"
   ]
  },
  {
   "cell_type": "code",
   "execution_count": null,
   "id": "c8adce17-2ca8-48e2-aaa6-afbda7c2b74c",
   "metadata": {},
   "outputs": [
    {
     "name": "stdout",
     "output_type": "stream",
     "text": [
      "(3,) (3, 1)\n"
     ]
    }
   ],
   "source": [
    "print(array_i.shape, array_j.shape)"
   ]
  },
  {
   "cell_type": "code",
   "execution_count": null,
   "id": "5db4ea36-5d90-4199-8753-98d822457e7c",
   "metadata": {},
   "outputs": [
    {
     "data": {
      "text/plain": [
       "array([[5, 6, 7],\n",
       "       [6, 7, 8],\n",
       "       [7, 8, 9]])"
      ]
     },
     "execution_count": 55,
     "metadata": {},
     "output_type": "execute_result"
    }
   ],
   "source": [
    "array_i + array_j"
   ]
  },
  {
   "cell_type": "code",
   "execution_count": null,
   "id": "1edee5a0-c2e1-4222-9812-c0e21ca00812",
   "metadata": {},
   "outputs": [
    {
     "data": {
      "text/plain": [
       "array([1, 2, 3])"
      ]
     },
     "execution_count": 56,
     "metadata": {},
     "output_type": "execute_result"
    }
   ],
   "source": [
    "array_sort = np.array([3, 1, 2])\n",
    "np.sort(array_sort)"
   ]
  },
  {
   "cell_type": "code",
   "execution_count": null,
   "id": "bf0b5ec1-b2c8-498f-9b9b-daffa7cdc5c1",
   "metadata": {},
   "outputs": [],
   "source": []
  }
 ],
 "metadata": {
  "kernelspec": {
   "display_name": "numpy-env",
   "language": "python",
   "name": "python3"
  },
  "language_info": {
   "codemirror_mode": {
    "name": "ipython",
    "version": 3
   },
   "file_extension": ".py",
   "mimetype": "text/x-python",
   "name": "python",
   "nbconvert_exporter": "python",
   "pygments_lexer": "ipython3",
   "version": "3.13.9"
  }
 },
 "nbformat": 4,
 "nbformat_minor": 5
}
