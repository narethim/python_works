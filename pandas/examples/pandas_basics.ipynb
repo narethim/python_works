{
 "cells": [
  {
   "cell_type": "code",
   "execution_count": 1,
   "id": "6cb7c86e-cade-4947-bef3-dc373b3851e7",
   "metadata": {},
   "outputs": [],
   "source": [
    "import pandas as pd\n",
    "import numpy as np\n"
   ]
  },
  {
   "cell_type": "markdown",
   "id": "d6160ad6-01a2-4221-947a-b2297df5a022",
   "metadata": {},
   "source": [
    "# Series"
   ]
  },
  {
   "cell_type": "code",
   "execution_count": 2,
   "id": "6e13bce1-a91c-4a8b-8df4-fa012dc928bf",
   "metadata": {},
   "outputs": [
    {
     "data": {
      "text/plain": [
       "0    22\n",
       "1    28\n",
       "2    19\n",
       "3    24\n",
       "4    30\n",
       "dtype: int64"
      ]
     },
     "execution_count": 2,
     "metadata": {},
     "output_type": "execute_result"
    }
   ],
   "source": [
    "temperature = [22, 28, 19, 24, 30]\n",
    "temp_series = pd.Series(temperature)\n",
    "temp_series"
   ]
  },
  {
   "cell_type": "code",
   "execution_count": 3,
   "id": "73d70e0f-bdfe-4799-b562-851755501724",
   "metadata": {},
   "outputs": [
    {
     "data": {
      "text/plain": [
       "Monday       22\n",
       "Tuesday      28\n",
       "Wednesday    19\n",
       "Thursday     24\n",
       "Friday       30\n",
       "dtype: int64"
      ]
     },
     "execution_count": 3,
     "metadata": {},
     "output_type": "execute_result"
    }
   ],
   "source": [
    "days = ['Monday', 'Tuesday', 'Wednesday', 'Thursday', 'Friday']\n",
    "temp_series = pd.Series(temperature, index=days)\n",
    "temp_series"
   ]
  },
  {
   "cell_type": "markdown",
   "id": "1f781168-f988-44cf-a12c-cd1456580e41",
   "metadata": {},
   "source": [
    "## Fruit series"
   ]
  },
  {
   "cell_type": "code",
   "execution_count": 5,
   "id": "eaba4aa8-5fa1-4a63-bdb7-cf45c09dcbad",
   "metadata": {},
   "outputs": [
    {
     "data": {
      "text/plain": [
       "Apple       10\n",
       "Bananas     15\n",
       "Cherries    17\n",
       "dtype: int64"
      ]
     },
     "execution_count": 5,
     "metadata": {},
     "output_type": "execute_result"
    }
   ],
   "source": [
    "fruit_counts = {'Apple': 10, 'Bananas': 15, 'Cherries': 17}\n",
    "fruit_series = pd.Series(fruit_counts)\n",
    "fruit_series"
   ]
  },
  {
   "cell_type": "code",
   "execution_count": 6,
   "id": "6b185596-0b79-4045-9b72-f596dd119b63",
   "metadata": {},
   "outputs": [
    {
     "data": {
      "text/plain": [
       "0    0.006985\n",
       "1    0.276157\n",
       "2    0.767892\n",
       "3    0.972043\n",
       "4    0.247096\n",
       "dtype: float64"
      ]
     },
     "execution_count": 6,
     "metadata": {},
     "output_type": "execute_result"
    }
   ],
   "source": [
    "random_numbers = np.random.random(5)\n",
    "random_series = pd.Series(random_numbers)\n",
    "random_series"
   ]
  },
  {
   "cell_type": "markdown",
   "id": "b4ea577e-1b95-4202-a9ff-0faa25e9e327",
   "metadata": {},
   "source": [
    "# DataFrame"
   ]
  },
  {
   "cell_type": "code",
   "execution_count": 9,
   "id": "5dd6208c-f5ae-4a09-9f02-6b66b70c78f9",
   "metadata": {},
   "outputs": [],
   "source": [
    "data = {\n",
    "    'Name': ['Alice', 'Bob', 'Charlie', 'David'],\n",
    "    'Age': [25, 30, 35, 40],\n",
    "    'Country': ['USA', 'UK', 'Canada', 'Australia']\n",
    "}"
   ]
  },
  {
   "cell_type": "code",
   "execution_count": 10,
   "id": "4acabd31-2cec-416f-92b6-18213fbd2106",
   "metadata": {},
   "outputs": [
    {
     "data": {
      "text/html": [
       "<div>\n",
       "<style scoped>\n",
       "    .dataframe tbody tr th:only-of-type {\n",
       "        vertical-align: middle;\n",
       "    }\n",
       "\n",
       "    .dataframe tbody tr th {\n",
       "        vertical-align: top;\n",
       "    }\n",
       "\n",
       "    .dataframe thead th {\n",
       "        text-align: right;\n",
       "    }\n",
       "</style>\n",
       "<table border=\"1\" class=\"dataframe\">\n",
       "  <thead>\n",
       "    <tr style=\"text-align: right;\">\n",
       "      <th></th>\n",
       "      <th>Name</th>\n",
       "      <th>Age</th>\n",
       "      <th>Country</th>\n",
       "    </tr>\n",
       "  </thead>\n",
       "  <tbody>\n",
       "    <tr>\n",
       "      <th>0</th>\n",
       "      <td>Alice</td>\n",
       "      <td>25</td>\n",
       "      <td>USA</td>\n",
       "    </tr>\n",
       "    <tr>\n",
       "      <th>1</th>\n",
       "      <td>Bob</td>\n",
       "      <td>30</td>\n",
       "      <td>UK</td>\n",
       "    </tr>\n",
       "    <tr>\n",
       "      <th>2</th>\n",
       "      <td>Charlie</td>\n",
       "      <td>35</td>\n",
       "      <td>Canada</td>\n",
       "    </tr>\n",
       "    <tr>\n",
       "      <th>3</th>\n",
       "      <td>David</td>\n",
       "      <td>40</td>\n",
       "      <td>Australia</td>\n",
       "    </tr>\n",
       "  </tbody>\n",
       "</table>\n",
       "</div>"
      ],
      "text/plain": [
       "      Name  Age    Country\n",
       "0    Alice   25        USA\n",
       "1      Bob   30         UK\n",
       "2  Charlie   35     Canada\n",
       "3    David   40  Australia"
      ]
     },
     "execution_count": 10,
     "metadata": {},
     "output_type": "execute_result"
    }
   ],
   "source": [
    "df = pd.DataFrame(data)\n",
    "df"
   ]
  },
  {
   "cell_type": "code",
   "execution_count": 11,
   "id": "bdd117ff-459e-4e9e-acbc-0cefde5412ba",
   "metadata": {},
   "outputs": [
    {
     "data": {
      "text/html": [
       "<div>\n",
       "<style scoped>\n",
       "    .dataframe tbody tr th:only-of-type {\n",
       "        vertical-align: middle;\n",
       "    }\n",
       "\n",
       "    .dataframe tbody tr th {\n",
       "        vertical-align: top;\n",
       "    }\n",
       "\n",
       "    .dataframe thead th {\n",
       "        text-align: right;\n",
       "    }\n",
       "</style>\n",
       "<table border=\"1\" class=\"dataframe\">\n",
       "  <thead>\n",
       "    <tr style=\"text-align: right;\">\n",
       "      <th></th>\n",
       "      <th>Name</th>\n",
       "      <th>Age</th>\n",
       "      <th>Country</th>\n",
       "    </tr>\n",
       "  </thead>\n",
       "  <tbody>\n",
       "    <tr>\n",
       "      <th>0</th>\n",
       "      <td>Emma</td>\n",
       "      <td>29</td>\n",
       "      <td>USA</td>\n",
       "    </tr>\n",
       "    <tr>\n",
       "      <th>1</th>\n",
       "      <td>Liam</td>\n",
       "      <td>32</td>\n",
       "      <td>UK</td>\n",
       "    </tr>\n",
       "    <tr>\n",
       "      <th>2</th>\n",
       "      <td>Olivia</td>\n",
       "      <td>27</td>\n",
       "      <td>Canada</td>\n",
       "    </tr>\n",
       "  </tbody>\n",
       "</table>\n",
       "</div>"
      ],
      "text/plain": [
       "     Name  Age Country\n",
       "0    Emma   29     USA\n",
       "1    Liam   32      UK\n",
       "2  Olivia   27  Canada"
      ]
     },
     "execution_count": 11,
     "metadata": {},
     "output_type": "execute_result"
    }
   ],
   "source": [
    "data2 = [\n",
    "    { 'Name': 'Emma', 'Age': 29, 'Country': 'USA'},\n",
    "    { 'Name': 'Liam', 'Age': 32, 'Country': 'UK'},\n",
    "    { 'Name': 'Olivia', 'Age': 27, 'Country': 'Canada'},\n",
    "]\n",
    "df2 = pd.DataFrame(data2)\n",
    "df2"
   ]
  },
  {
   "cell_type": "code",
   "execution_count": 14,
   "id": "4ad9f919-f9ee-405c-afe0-588af8d06e6d",
   "metadata": {},
   "outputs": [
    {
     "data": {
      "text/html": [
       "<div>\n",
       "<style scoped>\n",
       "    .dataframe tbody tr th:only-of-type {\n",
       "        vertical-align: middle;\n",
       "    }\n",
       "\n",
       "    .dataframe tbody tr th {\n",
       "        vertical-align: top;\n",
       "    }\n",
       "\n",
       "    .dataframe thead th {\n",
       "        text-align: right;\n",
       "    }\n",
       "</style>\n",
       "<table border=\"1\" class=\"dataframe\">\n",
       "  <thead>\n",
       "    <tr style=\"text-align: right;\">\n",
       "      <th></th>\n",
       "      <th>SepaLength</th>\n",
       "      <th>SepaWidth</th>\n",
       "      <th>PetalLength</th>\n",
       "      <th>PetalWdith</th>\n",
       "    </tr>\n",
       "  </thead>\n",
       "  <tbody>\n",
       "    <tr>\n",
       "      <th>0</th>\n",
       "      <td>5</td>\n",
       "      <td>3</td>\n",
       "      <td>1</td>\n",
       "      <td>2</td>\n",
       "    </tr>\n",
       "    <tr>\n",
       "      <th>1</th>\n",
       "      <td>4</td>\n",
       "      <td>3</td>\n",
       "      <td>1</td>\n",
       "      <td>2</td>\n",
       "    </tr>\n",
       "    <tr>\n",
       "      <th>2</th>\n",
       "      <td>6</td>\n",
       "      <td>3</td>\n",
       "      <td>5</td>\n",
       "      <td>2</td>\n",
       "    </tr>\n",
       "  </tbody>\n",
       "</table>\n",
       "</div>"
      ],
      "text/plain": [
       "   SepaLength  SepaWidth  PetalLength  PetalWdith\n",
       "0           5          3            1           2\n",
       "1           4          3            1           2\n",
       "2           6          3            5           2"
      ]
     },
     "execution_count": 14,
     "metadata": {},
     "output_type": "execute_result"
    }
   ],
   "source": [
    "array_data = np.array([\n",
    "    [5, 3, 1, 2],\n",
    "    [4, 3, 1, 2],\n",
    "    [6, 3, 5, 2],\n",
    "])\n",
    "columns = ['SepaLength', 'SepaWidth', 'PetalLength', 'PetalWdith']\n",
    "\n",
    "df = pd.DataFrame(array_data, columns=columns)\n",
    "df"
   ]
  },
  {
   "cell_type": "code",
   "execution_count": 15,
   "id": "fd3ec290-0c72-4f72-9274-986b40922426",
   "metadata": {},
   "outputs": [
    {
     "data": {
      "text/html": [
       "<div>\n",
       "<style scoped>\n",
       "    .dataframe tbody tr th:only-of-type {\n",
       "        vertical-align: middle;\n",
       "    }\n",
       "\n",
       "    .dataframe tbody tr th {\n",
       "        vertical-align: top;\n",
       "    }\n",
       "\n",
       "    .dataframe thead th {\n",
       "        text-align: right;\n",
       "    }\n",
       "</style>\n",
       "<table border=\"1\" class=\"dataframe\">\n",
       "  <thead>\n",
       "    <tr style=\"text-align: right;\">\n",
       "      <th></th>\n",
       "      <th>Apple</th>\n",
       "      <th>Google</th>\n",
       "    </tr>\n",
       "  </thead>\n",
       "  <tbody>\n",
       "    <tr>\n",
       "      <th>2025-01-01</th>\n",
       "      <td>150</td>\n",
       "      <td>2800</td>\n",
       "    </tr>\n",
       "    <tr>\n",
       "      <th>2025-01-02</th>\n",
       "      <td>153</td>\n",
       "      <td>2825</td>\n",
       "    </tr>\n",
       "    <tr>\n",
       "      <th>2025-01-03</th>\n",
       "      <td>155</td>\n",
       "      <td>2830</td>\n",
       "    </tr>\n",
       "  </tbody>\n",
       "</table>\n",
       "</div>"
      ],
      "text/plain": [
       "            Apple  Google\n",
       "2025-01-01    150    2800\n",
       "2025-01-02    153    2825\n",
       "2025-01-03    155    2830"
      ]
     },
     "execution_count": 15,
     "metadata": {},
     "output_type": "execute_result"
    }
   ],
   "source": [
    "apple_stock = pd.Series([150, 153, 155], index=['2025-01-01', '2025-01-02', '2025-01-03'])\n",
    "google_stock = pd.Series([2800, 2825, 2830], index=['2025-01-01', '2025-01-02', '2025-01-03'])\n",
    "\n",
    "stocks_df = pd.DataFrame({'Apple': apple_stock, 'Google': google_stock})\n",
    "stocks_df"
   ]
  },
  {
   "cell_type": "markdown",
   "id": "ccbb08c9-696c-420d-a4c4-d14bbc381d9c",
   "metadata": {},
   "source": [
    "## Add a column of data"
   ]
  },
  {
   "cell_type": "code",
   "execution_count": 17,
   "id": "ec7a164a-a0db-4716-9f0f-4465656ec696",
   "metadata": {},
   "outputs": [
    {
     "data": {
      "text/html": [
       "<div>\n",
       "<style scoped>\n",
       "    .dataframe tbody tr th:only-of-type {\n",
       "        vertical-align: middle;\n",
       "    }\n",
       "\n",
       "    .dataframe tbody tr th {\n",
       "        vertical-align: top;\n",
       "    }\n",
       "\n",
       "    .dataframe thead th {\n",
       "        text-align: right;\n",
       "    }\n",
       "</style>\n",
       "<table border=\"1\" class=\"dataframe\">\n",
       "  <thead>\n",
       "    <tr style=\"text-align: right;\">\n",
       "      <th></th>\n",
       "      <th>Apple</th>\n",
       "      <th>Google</th>\n",
       "      <th>MarketCap</th>\n",
       "    </tr>\n",
       "  </thead>\n",
       "  <tbody>\n",
       "    <tr>\n",
       "      <th>2025-01-01</th>\n",
       "      <td>150</td>\n",
       "      <td>2800</td>\n",
       "      <td>25000000</td>\n",
       "    </tr>\n",
       "    <tr>\n",
       "      <th>2025-01-02</th>\n",
       "      <td>153</td>\n",
       "      <td>2825</td>\n",
       "      <td>26000000</td>\n",
       "    </tr>\n",
       "    <tr>\n",
       "      <th>2025-01-03</th>\n",
       "      <td>155</td>\n",
       "      <td>2830</td>\n",
       "      <td>27000000</td>\n",
       "    </tr>\n",
       "  </tbody>\n",
       "</table>\n",
       "</div>"
      ],
      "text/plain": [
       "            Apple  Google  MarketCap\n",
       "2025-01-01    150    2800   25000000\n",
       "2025-01-02    153    2825   26000000\n",
       "2025-01-03    155    2830   27000000"
      ]
     },
     "execution_count": 17,
     "metadata": {},
     "output_type": "execute_result"
    }
   ],
   "source": [
    "stocks_df['MarketCap'] = [25000000, 26000000, 27000000]\n",
    "stocks_df"
   ]
  },
  {
   "cell_type": "markdown",
   "id": "0d1063db-b2f9-411f-a342-f1e1c0623251",
   "metadata": {},
   "source": [
    "## Remove a column of data"
   ]
  },
  {
   "cell_type": "code",
   "execution_count": 19,
   "id": "2d996160-d546-4ae1-94e8-4985bc0d5a50",
   "metadata": {},
   "outputs": [
    {
     "data": {
      "text/html": [
       "<div>\n",
       "<style scoped>\n",
       "    .dataframe tbody tr th:only-of-type {\n",
       "        vertical-align: middle;\n",
       "    }\n",
       "\n",
       "    .dataframe tbody tr th {\n",
       "        vertical-align: top;\n",
       "    }\n",
       "\n",
       "    .dataframe thead th {\n",
       "        text-align: right;\n",
       "    }\n",
       "</style>\n",
       "<table border=\"1\" class=\"dataframe\">\n",
       "  <thead>\n",
       "    <tr style=\"text-align: right;\">\n",
       "      <th></th>\n",
       "      <th>Apple</th>\n",
       "      <th>Google</th>\n",
       "    </tr>\n",
       "  </thead>\n",
       "  <tbody>\n",
       "    <tr>\n",
       "      <th>2025-01-01</th>\n",
       "      <td>150</td>\n",
       "      <td>2800</td>\n",
       "    </tr>\n",
       "    <tr>\n",
       "      <th>2025-01-02</th>\n",
       "      <td>153</td>\n",
       "      <td>2825</td>\n",
       "    </tr>\n",
       "    <tr>\n",
       "      <th>2025-01-03</th>\n",
       "      <td>155</td>\n",
       "      <td>2830</td>\n",
       "    </tr>\n",
       "  </tbody>\n",
       "</table>\n",
       "</div>"
      ],
      "text/plain": [
       "            Apple  Google\n",
       "2025-01-01    150    2800\n",
       "2025-01-02    153    2825\n",
       "2025-01-03    155    2830"
      ]
     },
     "execution_count": 19,
     "metadata": {},
     "output_type": "execute_result"
    }
   ],
   "source": [
    "stocks_df = stocks_df.drop('MarketCap', axis=1)\n",
    "stocks_df"
   ]
  },
  {
   "cell_type": "markdown",
   "id": "1179c1fb-1d15-4c03-be53-abfa48310112",
   "metadata": {},
   "source": [
    "## Access a column"
   ]
  },
  {
   "cell_type": "code",
   "execution_count": 20,
   "id": "5f5ed2f1-e1dd-4047-8c70-03133c6107e5",
   "metadata": {},
   "outputs": [
    {
     "data": {
      "text/plain": [
       "2025-01-01    150\n",
       "2025-01-02    153\n",
       "2025-01-03    155\n",
       "Name: Apple, dtype: int64"
      ]
     },
     "execution_count": 20,
     "metadata": {},
     "output_type": "execute_result"
    }
   ],
   "source": [
    "stocks_df['Apple']\n"
   ]
  },
  {
   "cell_type": "markdown",
   "id": "b668e058-6b98-44cf-84be-68dbdadf6b72",
   "metadata": {},
   "source": [
    "## Access a row using loc and iloc"
   ]
  },
  {
   "cell_type": "code",
   "execution_count": 22,
   "id": "aa14130e-b582-4df5-9b2a-c274e0c2632f",
   "metadata": {},
   "outputs": [
    {
     "data": {
      "text/plain": [
       "Apple      153\n",
       "Google    2825\n",
       "Name: 2025-01-02, dtype: int64"
      ]
     },
     "execution_count": 22,
     "metadata": {},
     "output_type": "execute_result"
    }
   ],
   "source": [
    "row = stocks_df.loc['2025-01-02']\n",
    "row"
   ]
  },
  {
   "cell_type": "code",
   "execution_count": 23,
   "id": "139dfd44-d7ed-4fc5-8e23-ef2ce0a4107c",
   "metadata": {},
   "outputs": [
    {
     "data": {
      "text/plain": [
       "Apple      150\n",
       "Google    2800\n",
       "Name: 2025-01-01, dtype: int64"
      ]
     },
     "execution_count": 23,
     "metadata": {},
     "output_type": "execute_result"
    }
   ],
   "source": [
    "row = stocks_df.iloc[0]\n",
    "row"
   ]
  }
 ],
 "metadata": {
  "kernelspec": {
   "display_name": "Python 3 (ipykernel)",
   "language": "python",
   "name": "python3"
  },
  "language_info": {
   "codemirror_mode": {
    "name": "ipython",
    "version": 3
   },
   "file_extension": ".py",
   "mimetype": "text/x-python",
   "name": "python",
   "nbconvert_exporter": "python",
   "pygments_lexer": "ipython3",
   "version": "3.13.9"
  }
 },
 "nbformat": 4,
 "nbformat_minor": 5
}
